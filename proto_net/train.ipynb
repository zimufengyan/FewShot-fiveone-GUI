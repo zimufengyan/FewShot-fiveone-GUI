{
 "cells": [
  {
   "cell_type": "code",
   "execution_count": 1,
   "metadata": {},
   "outputs": [
    {
     "name": "stderr",
     "output_type": "stream",
     "text": [
      "/usr/local/lib/python3.8/dist-packages/tqdm/auto.py:21: TqdmWarning: IProgress not found. Please update jupyter and ipywidgets. See https://ipywidgets.readthedocs.io/en/stable/user_install.html\n",
      "  from .autonotebook import tqdm as notebook_tqdm\n"
     ]
    }
   ],
   "source": [
    "import torch \n",
    "from torch.utils.data import DataLoader\n",
    "import os\n",
    "import time\n",
    "import numpy as np\n",
    "import math\n",
    "from torchvision import datasets\n",
    "from torchvision.transforms import transforms, InterpolationMode\n",
    "\n",
    "from model import ProtoModel\n",
    "from sampler import FewShotBatchSampler"
   ]
  },
  {
   "cell_type": "code",
   "execution_count": 2,
   "metadata": {},
   "outputs": [],
   "source": [
    "n_ways_tr, n_ways_ts, num_support, num_query = 60, 5, 1, 1\n",
    "num_epochs, eposides = 100, 100\n",
    "lr, lr_gamma, lr_policy, lr_decay_epochs = 1e-3, 0.5, 'step', 20\n",
    "num_hiddens, out_channels = 64, 64\n",
    "gpu_ids, distance = (0), 'euclidean'\n",
    "print_per_epoch = 1\n",
    "\n",
    "# for early stop\n",
    "best_evaluation_accuracy = 0\n",
    "best_evaluation_epoch = 0\n",
    "endure_epochs = 20\n",
    "save_dir = \"../checkpoints/\""
   ]
  },
  {
   "cell_type": "code",
   "execution_count": 3,
   "metadata": {},
   "outputs": [],
   "source": [
    "def init_seed(seed):\n",
    "    '''\n",
    "    Disable cudnn to maximize reproducibility\n",
    "    '''\n",
    "    # torch.cuda.cudnn_enabled = False\n",
    "    np.random.seed(seed)\n",
    "    torch.manual_seed(seed)\n",
    "    torch.cuda.manual_seed(seed)\n",
    "    \n",
    "init_seed(520)"
   ]
  },
  {
   "cell_type": "code",
   "execution_count": 4,
   "metadata": {},
   "outputs": [],
   "source": [
    "train_transform = transforms.Compose([\n",
    "    transforms.Resize((28, 28), interpolation=InterpolationMode.BICUBIC),\n",
    "    transforms.RandomApply(\n",
    "        [transforms.RandomAffine(degrees=15, shear=0.3 * 180 / math.pi, scale=(0.8, 2.0))],\n",
    "        p=0.5\n",
    "    ),\n",
    "    transforms.ToTensor(),\n",
    "    transforms.Normalize(mean=0.87, std=0.33)\n",
    "])\n",
    "test_transform = transforms.Compose([\n",
    "    transforms.Resize((28, 28), interpolation=InterpolationMode.BICUBIC),\n",
    "    transforms.ToTensor(),\n",
    "    transforms.Normalize(mean=0.87, std=0.33)\n",
    "])\n",
    "train_dataset = datasets.Omniglot(root='../data', background=True, transform=train_transform, download=False)\n",
    "test_dataset = datasets.Omniglot(root='../data', background=False, transform=test_transform, download=False)"
   ]
  },
  {
   "cell_type": "code",
   "execution_count": 5,
   "metadata": {},
   "outputs": [
    {
     "name": "stdout",
     "output_type": "stream",
     "text": [
      "initialize network with normal\n"
     ]
    }
   ],
   "source": [
    "model = ProtoModel(\n",
    "    1, out_channels, num_hiddens, lr, gpu_ids, distance, is_train=True, \n",
    "    lr_policy=lr_policy, gamma=lr_gamma, lr_decay_iters=lr_decay_iters\n",
    ")\n",
    "model.init_net()\n",
    "model.to_device()"
   ]
  },
  {
   "cell_type": "code",
   "execution_count": 6,
   "metadata": {},
   "outputs": [],
   "source": [
    "train_labels = np.array([train_dataset[i][1] for i in range(len(train_dataset))])\n",
    "test_labels = np.array([test_dataset[i][1] for i in range(len(test_dataset))])\n",
    "train_sampler = FewShotBatchSampler(train_labels, n_ways_tr, num_support + num_query, eposides)\n",
    "test_sampler = FewShotBatchSampler(test_labels, n_ways_ts, num_support + num_query, eposides)\n",
    "train_loader = DataLoader(train_dataset, batch_sampler=train_sampler)\n",
    "test_loader = DataLoader(test_dataset, batch_sampler=test_sampler)"
   ]
  },
  {
   "cell_type": "code",
   "execution_count": 7,
   "metadata": {},
   "outputs": [],
   "source": [
    "def split_support_query(X, n_ways, n_support, n_query):\n",
    "    assert X.size(0) == n_ways * (n_support + n_query)\n",
    "    s_idxs = torch.LongTensor(np.arange(0, X.size(0), num_support + num_query))\n",
    "    q_idxs = torch.LongTensor(np.arange(num_support, X.size(0), num_support + num_query))\n",
    "    Xs = X[s_idxs]\n",
    "    Xq = X[q_idxs]\n",
    "    \n",
    "    return Xs, Xq"
   ]
  },
  {
   "cell_type": "code",
   "execution_count": 8,
   "metadata": {},
   "outputs": [
    {
     "name": "stdout",
     "output_type": "stream",
     "text": [
      "Epoch 1/100 17.18sec : Train Loss: 6.7643 Train Accuracy: 0.1532  Test Loss: 0.9766 Test Accuracy: 0.6560\n",
      "Epoch 2/100 17.92sec : Train Loss: 3.4611 Train Accuracy: 0.2047  Test Loss: 0.7770 Test Accuracy: 0.6940\n",
      "Epoch 3/100 18.17sec : Train Loss: 2.9555 Train Accuracy: 0.2650  Test Loss: 0.6426 Test Accuracy: 0.7720\n",
      "Epoch 4/100 17.62sec : Train Loss: 2.6585 Train Accuracy: 0.3093  Test Loss: 0.5547 Test Accuracy: 0.7940\n",
      "Epoch 5/100 17.29sec : Train Loss: 2.4651 Train Accuracy: 0.3547  Test Loss: 0.4086 Test Accuracy: 0.8540\n",
      "Epoch 6/100 18.02sec : Train Loss: 2.3107 Train Accuracy: 0.3948  Test Loss: 0.3767 Test Accuracy: 0.8600\n",
      "Epoch 7/100 18.30sec : Train Loss: 2.1985 Train Accuracy: 0.4190  Test Loss: 0.4001 Test Accuracy: 0.8500\n",
      "Epoch 8/100 18.33sec : Train Loss: 2.0191 Train Accuracy: 0.4513  Test Loss: 0.3154 Test Accuracy: 0.8920\n",
      "Epoch 9/100 17.89sec : Train Loss: 1.9795 Train Accuracy: 0.4650  Test Loss: 0.3110 Test Accuracy: 0.8920\n",
      "Epoch 10/100 18.39sec : Train Loss: 1.8925 Train Accuracy: 0.4868  Test Loss: 0.2867 Test Accuracy: 0.8900\n",
      "Epoch 11/100 17.82sec : Train Loss: 1.8158 Train Accuracy: 0.5053  Test Loss: 0.2638 Test Accuracy: 0.9040\n",
      "Epoch 12/100 18.50sec : Train Loss: 1.7659 Train Accuracy: 0.5087  Test Loss: 0.2695 Test Accuracy: 0.9160\n",
      "Epoch 13/100 18.08sec : Train Loss: 1.6842 Train Accuracy: 0.5335  Test Loss: 0.2262 Test Accuracy: 0.9300\n",
      "Epoch 14/100 18.20sec : Train Loss: 1.6360 Train Accuracy: 0.5417  Test Loss: 0.2763 Test Accuracy: 0.9200\n",
      "Epoch 15/100 18.10sec : Train Loss: 1.5631 Train Accuracy: 0.5603  Test Loss: 0.2277 Test Accuracy: 0.9340\n",
      "Epoch 16/100 18.18sec : Train Loss: 1.5127 Train Accuracy: 0.5738  Test Loss: 0.2758 Test Accuracy: 0.9160\n",
      "Epoch 17/100 18.41sec : Train Loss: 1.4532 Train Accuracy: 0.5895  Test Loss: 0.1980 Test Accuracy: 0.9460\n",
      "Epoch 18/100 17.60sec : Train Loss: 1.4117 Train Accuracy: 0.6060  Test Loss: 0.1786 Test Accuracy: 0.9420\n",
      "Epoch 19/100 17.80sec : Train Loss: 1.4126 Train Accuracy: 0.6018  Test Loss: 0.1924 Test Accuracy: 0.9500\n",
      "Updating learning rate: 0.001 -> 0.0005\n",
      "Epoch 20/100 18.41sec : Train Loss: 1.3738 Train Accuracy: 0.6073  Test Loss: 0.1845 Test Accuracy: 0.9300\n",
      "Epoch 21/100 18.18sec : Train Loss: 1.3482 Train Accuracy: 0.6183  Test Loss: 0.1672 Test Accuracy: 0.9520\n",
      "Epoch 22/100 17.99sec : Train Loss: 1.2953 Train Accuracy: 0.6307  Test Loss: 0.2063 Test Accuracy: 0.9280\n",
      "Epoch 23/100 18.24sec : Train Loss: 1.2675 Train Accuracy: 0.6458  Test Loss: 0.1677 Test Accuracy: 0.9420\n",
      "Epoch 24/100 17.69sec : Train Loss: 1.3183 Train Accuracy: 0.6267  Test Loss: 0.2070 Test Accuracy: 0.9340\n",
      "Epoch 25/100 17.79sec : Train Loss: 1.2681 Train Accuracy: 0.6373  Test Loss: 0.1519 Test Accuracy: 0.9460\n",
      "Epoch 26/100 17.89sec : Train Loss: 1.2381 Train Accuracy: 0.6440  Test Loss: 0.1948 Test Accuracy: 0.9260\n",
      "Epoch 27/100 18.20sec : Train Loss: 1.2470 Train Accuracy: 0.6432  Test Loss: 0.1373 Test Accuracy: 0.9600\n",
      "Epoch 28/100 18.00sec : Train Loss: 1.2720 Train Accuracy: 0.6390  Test Loss: 0.2011 Test Accuracy: 0.9400\n",
      "Epoch 29/100 17.92sec : Train Loss: 1.1735 Train Accuracy: 0.6588  Test Loss: 0.1878 Test Accuracy: 0.9300\n",
      "Epoch 30/100 18.40sec : Train Loss: 1.1563 Train Accuracy: 0.6665  Test Loss: 0.1729 Test Accuracy: 0.9400\n",
      "Epoch 31/100 18.00sec : Train Loss: 1.2027 Train Accuracy: 0.6508  Test Loss: 0.1570 Test Accuracy: 0.9420\n",
      "Epoch 32/100 17.88sec : Train Loss: 1.1454 Train Accuracy: 0.6670  Test Loss: 0.1481 Test Accuracy: 0.9520\n",
      "Epoch 33/100 18.01sec : Train Loss: 1.1438 Train Accuracy: 0.6695  Test Loss: 0.1383 Test Accuracy: 0.9580\n",
      "Epoch 34/100 18.19sec : Train Loss: 1.1060 Train Accuracy: 0.6740  Test Loss: 0.1405 Test Accuracy: 0.9600\n",
      "Epoch 35/100 18.22sec : Train Loss: 1.1724 Train Accuracy: 0.6617  Test Loss: 0.1776 Test Accuracy: 0.9380\n",
      "Epoch 36/100 17.99sec : Train Loss: 1.1486 Train Accuracy: 0.6687  Test Loss: 0.1516 Test Accuracy: 0.9440\n",
      "Epoch 37/100 17.91sec : Train Loss: 1.1225 Train Accuracy: 0.6780  Test Loss: 0.1868 Test Accuracy: 0.9500\n",
      "Epoch 38/100 18.29sec : Train Loss: 1.1462 Train Accuracy: 0.6697  Test Loss: 0.1422 Test Accuracy: 0.9600\n",
      "Epoch 39/100 18.02sec : Train Loss: 1.0717 Train Accuracy: 0.6917  Test Loss: 0.1319 Test Accuracy: 0.9620\n",
      "Updating learning rate: 0.0005 -> 0.00025\n",
      "Epoch 40/100 18.19sec : Train Loss: 1.0809 Train Accuracy: 0.6947  Test Loss: 0.1467 Test Accuracy: 0.9540\n",
      "Epoch 41/100 18.41sec : Train Loss: 1.0368 Train Accuracy: 0.6985  Test Loss: 0.1292 Test Accuracy: 0.9520\n",
      "Epoch 42/100 18.19sec : Train Loss: 1.0623 Train Accuracy: 0.6915  Test Loss: 0.1360 Test Accuracy: 0.9500\n",
      "Epoch 43/100 18.42sec : Train Loss: 1.0320 Train Accuracy: 0.6952  Test Loss: 0.1356 Test Accuracy: 0.9640\n",
      "Epoch 44/100 17.90sec : Train Loss: 1.0601 Train Accuracy: 0.6945  Test Loss: 0.1533 Test Accuracy: 0.9520\n",
      "Epoch 45/100 18.27sec : Train Loss: 1.0482 Train Accuracy: 0.6938  Test Loss: 0.1882 Test Accuracy: 0.9340\n",
      "Epoch 46/100 18.12sec : Train Loss: 0.9637 Train Accuracy: 0.7160  Test Loss: 0.1339 Test Accuracy: 0.9560\n",
      "Epoch 47/100 18.00sec : Train Loss: 0.9916 Train Accuracy: 0.7108  Test Loss: 0.1555 Test Accuracy: 0.9540\n",
      "Epoch 48/100 18.39sec : Train Loss: 0.9824 Train Accuracy: 0.7110  Test Loss: 0.1626 Test Accuracy: 0.9580\n",
      "Epoch 49/100 18.10sec : Train Loss: 1.0020 Train Accuracy: 0.7085  Test Loss: 0.1408 Test Accuracy: 0.9440\n",
      "Epoch 50/100 18.29sec : Train Loss: 1.0005 Train Accuracy: 0.7085  Test Loss: 0.1320 Test Accuracy: 0.9540\n",
      "Epoch 51/100 18.31sec : Train Loss: 0.9760 Train Accuracy: 0.7065  Test Loss: 0.1618 Test Accuracy: 0.9460\n",
      "Epoch 52/100 18.21sec : Train Loss: 0.9691 Train Accuracy: 0.7125  Test Loss: 0.0981 Test Accuracy: 0.9600\n",
      "Epoch 53/100 18.28sec : Train Loss: 0.9948 Train Accuracy: 0.7113  Test Loss: 0.1333 Test Accuracy: 0.9600\n",
      "Epoch 54/100 18.09sec : Train Loss: 0.9944 Train Accuracy: 0.7078  Test Loss: 0.1338 Test Accuracy: 0.9500\n",
      "Epoch 55/100 18.22sec : Train Loss: 0.9952 Train Accuracy: 0.7080  Test Loss: 0.1666 Test Accuracy: 0.9480\n",
      "Epoch 56/100 18.31sec : Train Loss: 0.9806 Train Accuracy: 0.7173  Test Loss: 0.0926 Test Accuracy: 0.9720\n",
      "Epoch 57/100 18.48sec : Train Loss: 0.9701 Train Accuracy: 0.7182  Test Loss: 0.1322 Test Accuracy: 0.9720\n",
      "Epoch 58/100 18.50sec : Train Loss: 0.9537 Train Accuracy: 0.7262  Test Loss: 0.1609 Test Accuracy: 0.9560\n",
      "Epoch 59/100 17.98sec : Train Loss: 0.9688 Train Accuracy: 0.7133  Test Loss: 0.1811 Test Accuracy: 0.9360\n",
      "Updating learning rate: 0.00025 -> 0.000125\n",
      "Epoch 60/100 18.32sec : Train Loss: 0.9575 Train Accuracy: 0.7243  Test Loss: 0.1037 Test Accuracy: 0.9640\n",
      "Epoch 61/100 18.21sec : Train Loss: 0.9702 Train Accuracy: 0.7172  Test Loss: 0.1359 Test Accuracy: 0.9540\n",
      "Epoch 62/100 17.98sec : Train Loss: 0.9357 Train Accuracy: 0.7283  Test Loss: 0.1389 Test Accuracy: 0.9520\n",
      "Epoch 63/100 18.31sec : Train Loss: 0.9351 Train Accuracy: 0.7198  Test Loss: 0.1647 Test Accuracy: 0.9540\n",
      "Epoch 64/100 18.39sec : Train Loss: 0.9777 Train Accuracy: 0.7207  Test Loss: 0.1483 Test Accuracy: 0.9440\n",
      "Epoch 65/100 18.31sec : Train Loss: 0.9252 Train Accuracy: 0.7290  Test Loss: 0.1740 Test Accuracy: 0.9420\n",
      "Epoch 66/100 18.68sec : Train Loss: 0.9156 Train Accuracy: 0.7285  Test Loss: 0.1414 Test Accuracy: 0.9600\n",
      "Epoch 67/100 18.31sec : Train Loss: 0.9431 Train Accuracy: 0.7257  Test Loss: 0.1378 Test Accuracy: 0.9560\n",
      "Epoch 68/100 18.29sec : Train Loss: 0.8898 Train Accuracy: 0.7337  Test Loss: 0.0759 Test Accuracy: 0.9720\n",
      "Epoch 69/100 18.01sec : Train Loss: 0.9126 Train Accuracy: 0.7295  Test Loss: 0.1384 Test Accuracy: 0.9440\n",
      "Epoch 70/100 18.00sec : Train Loss: 0.9005 Train Accuracy: 0.7338  Test Loss: 0.1866 Test Accuracy: 0.9540\n",
      "Epoch 71/100 18.02sec : Train Loss: 0.9438 Train Accuracy: 0.7190  Test Loss: 0.1485 Test Accuracy: 0.9500\n",
      "Epoch 72/100 18.37sec : Train Loss: 0.8918 Train Accuracy: 0.7325  Test Loss: 0.1549 Test Accuracy: 0.9500\n",
      "Epoch 73/100 18.63sec : Train Loss: 0.9013 Train Accuracy: 0.7328  Test Loss: 0.1223 Test Accuracy: 0.9560\n",
      "Epoch 74/100 18.28sec : Train Loss: 0.8764 Train Accuracy: 0.7402  Test Loss: 0.1892 Test Accuracy: 0.9460\n",
      "Epoch 75/100 18.12sec : Train Loss: 0.9121 Train Accuracy: 0.7390  Test Loss: 0.1291 Test Accuracy: 0.9560\n",
      "Epoch 76/100 17.89sec : Train Loss: 0.8450 Train Accuracy: 0.7410  Test Loss: 0.1400 Test Accuracy: 0.9600\n",
      "Epoch 77/100 18.01sec : Train Loss: 0.8580 Train Accuracy: 0.7442  Test Loss: 0.1413 Test Accuracy: 0.9600\n",
      "Early stop\n",
      "Best evaluation accuracy: 0.9720 Current evaluation accuracy: 0.9600\n"
     ]
    }
   ],
   "source": [
    "train_losses, train_accuracies = [], []\n",
    "test_losses, test_accuracies = [], []\n",
    "\n",
    "for epoch in range(num_epochs):\n",
    "    st = time.time()\n",
    "    train_loss_mean, train_acc_mean, train_size = 0.0, 0.0, 0\n",
    "    for X, _ in train_loader:\n",
    "        Xs, Xq = split_support_query(X, n_ways_tr, num_support, num_query)\n",
    "        train_loss, train_acc = model.train_on_batch(Xs, Xq, n_ways_tr)\n",
    "        b_size = Xq.size(0)\n",
    "        train_size += b_size\n",
    "        train_loss_mean += train_loss * b_size\n",
    "        train_acc_mean += train_acc * b_size\n",
    "    train_losses.append(train_loss_mean / train_size)\n",
    "    train_accuracies.append(train_acc_mean / train_size)\n",
    "    model.update_lr()\n",
    "    \n",
    "    test_loss_mean, test_acc_mean, test_size = 0.0, 0.0, 0\n",
    "    for X, _ in test_loader:\n",
    "        Xs, Xq = split_support_query(X, n_ways_ts, num_support, num_query)\n",
    "        test_loss, test_acc = model.test_on_batch(Xs, Xq, n_ways_ts)  \n",
    "        b_size = Xq.size(0)     \n",
    "        test_size += b_size\n",
    "        test_loss_mean += test_loss * b_size\n",
    "        test_acc_mean += test_acc * b_size\n",
    "    test_losses.append(test_loss_mean / test_size)\n",
    "    test_accuracies.append(test_acc_mean / test_size)\n",
    "    \n",
    "    if epoch % print_per_epoch == 0 or epoch == num_epochs - 1:\n",
    "        print(f\"Epoch {epoch+1}/{num_epochs} {time.time() - st :.2f}sec :\", end=' ')\n",
    "        print(f\"Train Loss: {train_losses[epoch] :.4f} Train Accuracy: {train_accuracies[epoch] :.4f}\", end=\"  \")\n",
    "        print(f\"Test Loss: {test_losses[epoch] :.4f} Test Accuracy: {test_accuracies[epoch] :.4f}\")\n",
    "    if test_accuracies[epoch] > best_evaluation_accuracy:\n",
    "        best_evaluation_accuracy = test_accuracies[epoch]\n",
    "        best_evaluation_epoch = epoch\n",
    "    if epoch - best_evaluation_epoch > endure_epochs:\n",
    "        print(\"Early stop\")\n",
    "        print(f\"Best evaluation accuracy: {best_evaluation_accuracy :.4f} Current evaluation accuracy: {test_accuracies[epoch] :.4f}\")\n",
    "        model.save_networks(save_dir=save_dir, epoch=epoch+1)\n",
    "        break"
   ]
  }
 ],
 "metadata": {
  "kernelspec": {
   "display_name": "Python 3",
   "language": "python",
   "name": "python3"
  },
  "language_info": {
   "codemirror_mode": {
    "name": "ipython",
    "version": 3
   },
   "file_extension": ".py",
   "mimetype": "text/x-python",
   "name": "python",
   "nbconvert_exporter": "python",
   "pygments_lexer": "ipython3",
   "version": "3.8.5"
  },
  "orig_nbformat": 4
 },
 "nbformat": 4,
 "nbformat_minor": 2
}
